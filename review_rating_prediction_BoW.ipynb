{
  "nbformat": 4,
  "nbformat_minor": 0,
  "metadata": {
    "colab": {
      "provenance": [],
      "collapsed_sections": [
        "O8UB70-VL03k",
        "wrwc_ppyLWIj",
        "t15RXN80QlXT",
        "fKyjhvTCSIO-"
      ]
    },
    "kernelspec": {
      "name": "python3",
      "display_name": "Python 3"
    },
    "language_info": {
      "name": "python"
    }
  },
  "cells": [
    {
      "cell_type": "markdown",
      "source": [
        "##Imports and data loading"
      ],
      "metadata": {
        "id": "O8UB70-VL03k"
      }
    },
    {
      "cell_type": "code",
      "source": [
        "!pip install contractions"
      ],
      "metadata": {
        "colab": {
          "base_uri": "https://localhost:8080/"
        },
        "id": "pRyyUX5XMN--",
        "outputId": "807c3b03-95cc-4a56-fc21-3188ab5b89d0"
      },
      "execution_count": null,
      "outputs": [
        {
          "output_type": "stream",
          "name": "stdout",
          "text": [
            "Collecting contractions\n",
            "  Downloading contractions-0.1.73-py2.py3-none-any.whl (8.7 kB)\n",
            "Collecting textsearch>=0.0.21 (from contractions)\n",
            "  Downloading textsearch-0.0.24-py2.py3-none-any.whl (7.6 kB)\n",
            "Collecting anyascii (from textsearch>=0.0.21->contractions)\n",
            "  Downloading anyascii-0.3.2-py3-none-any.whl (289 kB)\n",
            "\u001b[2K     \u001b[90m━━━━━━━━━━━━━━━━━━━━━━━━━━━━━━━━━━━━━━━\u001b[0m \u001b[32m289.9/289.9 kB\u001b[0m \u001b[31m6.3 MB/s\u001b[0m eta \u001b[36m0:00:00\u001b[0m\n",
            "\u001b[?25hCollecting pyahocorasick (from textsearch>=0.0.21->contractions)\n",
            "  Downloading pyahocorasick-2.0.0-cp310-cp310-manylinux_2_5_x86_64.manylinux1_x86_64.manylinux_2_12_x86_64.manylinux2010_x86_64.whl (110 kB)\n",
            "\u001b[2K     \u001b[90m━━━━━━━━━━━━━━━━━━━━━━━━━━━━━━━━━━━━━━━\u001b[0m \u001b[32m110.8/110.8 kB\u001b[0m \u001b[31m8.3 MB/s\u001b[0m eta \u001b[36m0:00:00\u001b[0m\n",
            "\u001b[?25hInstalling collected packages: pyahocorasick, anyascii, textsearch, contractions\n",
            "Successfully installed anyascii-0.3.2 contractions-0.1.73 pyahocorasick-2.0.0 textsearch-0.0.24\n"
          ]
        }
      ]
    },
    {
      "cell_type": "code",
      "source": [
        "import glob\n",
        "import os\n",
        "import re\n",
        "import string\n",
        "import nltk\n",
        "import contractions\n",
        "from nltk import WordNetLemmatizer, word_tokenize\n",
        "from nltk.corpus import stopwords\n",
        "import numpy as np\n",
        "from sklearn.feature_extraction.text import CountVectorizer\n",
        "from sklearn.metrics import accuracy_score, f1_score, classification_report\n",
        "from sklearn.model_selection import GridSearchCV\n",
        "from sklearn.metrics import mean_squared_error\n",
        "import lightgbm as lgb\n",
        "import pandas as pd\n",
        "import matplotlib.pyplot as plt\n",
        "\n",
        "nltk.download('stopwords')\n",
        "nltk.download('wordnet')\n",
        "nltk.download('punkt')"
      ],
      "metadata": {
        "colab": {
          "base_uri": "https://localhost:8080/"
        },
        "id": "E1eYRxnWL9iG",
        "outputId": "e713b1d6-142b-4515-9180-175459bd2aa5"
      },
      "execution_count": null,
      "outputs": [
        {
          "output_type": "stream",
          "name": "stderr",
          "text": [
            "[nltk_data] Downloading package stopwords to /root/nltk_data...\n",
            "[nltk_data]   Unzipping corpora/stopwords.zip.\n",
            "[nltk_data] Downloading package wordnet to /root/nltk_data...\n",
            "[nltk_data] Downloading package punkt to /root/nltk_data...\n",
            "[nltk_data]   Unzipping tokenizers/punkt.zip.\n"
          ]
        },
        {
          "output_type": "execute_result",
          "data": {
            "text/plain": [
              "True"
            ]
          },
          "metadata": {},
          "execution_count": 2
        }
      ]
    },
    {
      "cell_type": "code",
      "execution_count": null,
      "metadata": {
        "id": "RDPkCDSf0vfE"
      },
      "outputs": [],
      "source": [
        "!cp \"./drive/MyDrive/test task/aclImdb_v1.tar.gz\" ./dataset.tar.gz"
      ]
    },
    {
      "cell_type": "code",
      "source": [
        "!tar -xf dataset.tar.gz"
      ],
      "metadata": {
        "id": "njxSBs_V2W-_"
      },
      "execution_count": null,
      "outputs": []
    },
    {
      "cell_type": "markdown",
      "source": [
        "##Text preprocessing"
      ],
      "metadata": {
        "id": "wrwc_ppyLWIj"
      }
    },
    {
      "cell_type": "code",
      "source": [
        "#preprocessing function for a BoW model\n",
        "def preprocess(data_path, lemmatizer, stop_words):\n",
        "  punct = string.punctuation\n",
        "  data_neg_paths = glob.glob(os.path.join(data_path,'neg/*'))\n",
        "  data_pos_paths = glob.glob(os.path.join(data_path,'pos/*'))\n",
        "\n",
        "  paths = data_neg_paths + data_pos_paths\n",
        "\n",
        "  data = []\n",
        "  ratings = []\n",
        "\n",
        "  for path in paths:\n",
        "    rating = int(path.split('/')[-1].split('_')[-1][:-4])\n",
        "    ratings.append(rating)\n",
        "\n",
        "    with open(path,'r') as inp:\n",
        "      text = inp.read()\n",
        "\n",
        "    #remove html tags\n",
        "    text = re.sub('<.*?>', '', text)\n",
        "    #expand contractions (haven't -> have not)\n",
        "    text = contractions.fix(text)\n",
        "    #get rid of non-alphabetic characters\n",
        "    text = re.sub(r'[^a-zA-Z ]+', ' ', text)\n",
        "\n",
        "    #tokenize text and turn it into lemmas\n",
        "    tokens = word_tokenize(text.lower())\n",
        "    tokens = [t for t in tokens if t not in stop_words and t not in punct]\n",
        "    lemmas = [lemmatizer.lemmatize(t) for t in tokens]\n",
        "\n",
        "    data.append(lemmas)\n",
        "\n",
        "  return data, ratings"
      ],
      "metadata": {
        "id": "JC8VBHWYMWat"
      },
      "execution_count": null,
      "outputs": []
    },
    {
      "cell_type": "code",
      "source": [
        "# define lemmatizer and stop_words to be removed\n",
        "lemmatizer = WordNetLemmatizer()\n",
        "\n",
        "stop_words = list(set(stopwords.words('english')))\n",
        "stop_words.remove('no')\n",
        "stop_words.remove('not')"
      ],
      "metadata": {
        "id": "vmrnO0OqLmBA"
      },
      "execution_count": null,
      "outputs": []
    },
    {
      "cell_type": "code",
      "source": [
        "dataTest, ratingsTest = preprocess(\"./aclImdb/test\",lemmatizer,stop_words)"
      ],
      "metadata": {
        "id": "fVMWx5udPAdY"
      },
      "execution_count": null,
      "outputs": []
    },
    {
      "cell_type": "code",
      "source": [
        "dataTrain, ratingsTrain = preprocess(\"./aclImdb/train\",lemmatizer,stop_words)"
      ],
      "metadata": {
        "id": "_3eBMXaaUuhu"
      },
      "execution_count": null,
      "outputs": []
    },
    {
      "cell_type": "code",
      "source": [
        "ratingsTrain = np.array(ratingsTrain)\n",
        "ratingsTest = np.array(ratingsTest)"
      ],
      "metadata": {
        "id": "pIFMCbUkXxwg"
      },
      "execution_count": null,
      "outputs": []
    },
    {
      "cell_type": "code",
      "source": [
        "vectorizer = CountVectorizer()"
      ],
      "metadata": {
        "id": "eym0W0YCV3g1"
      },
      "execution_count": null,
      "outputs": []
    },
    {
      "cell_type": "code",
      "source": [
        "vectorizer.fit([\" \".join(s) for s in dataTrain])"
      ],
      "metadata": {
        "id": "tFRhpmOsV9q_",
        "colab": {
          "base_uri": "https://localhost:8080/",
          "height": 74
        },
        "outputId": "8c0dec85-8624-4315-f8d2-e23cdae77704"
      },
      "execution_count": null,
      "outputs": [
        {
          "data": {
            "text/html": [
              "<style>#sk-container-id-2 {color: black;background-color: white;}#sk-container-id-2 pre{padding: 0;}#sk-container-id-2 div.sk-toggleable {background-color: white;}#sk-container-id-2 label.sk-toggleable__label {cursor: pointer;display: block;width: 100%;margin-bottom: 0;padding: 0.3em;box-sizing: border-box;text-align: center;}#sk-container-id-2 label.sk-toggleable__label-arrow:before {content: \"▸\";float: left;margin-right: 0.25em;color: #696969;}#sk-container-id-2 label.sk-toggleable__label-arrow:hover:before {color: black;}#sk-container-id-2 div.sk-estimator:hover label.sk-toggleable__label-arrow:before {color: black;}#sk-container-id-2 div.sk-toggleable__content {max-height: 0;max-width: 0;overflow: hidden;text-align: left;background-color: #f0f8ff;}#sk-container-id-2 div.sk-toggleable__content pre {margin: 0.2em;color: black;border-radius: 0.25em;background-color: #f0f8ff;}#sk-container-id-2 input.sk-toggleable__control:checked~div.sk-toggleable__content {max-height: 200px;max-width: 100%;overflow: auto;}#sk-container-id-2 input.sk-toggleable__control:checked~label.sk-toggleable__label-arrow:before {content: \"▾\";}#sk-container-id-2 div.sk-estimator input.sk-toggleable__control:checked~label.sk-toggleable__label {background-color: #d4ebff;}#sk-container-id-2 div.sk-label input.sk-toggleable__control:checked~label.sk-toggleable__label {background-color: #d4ebff;}#sk-container-id-2 input.sk-hidden--visually {border: 0;clip: rect(1px 1px 1px 1px);clip: rect(1px, 1px, 1px, 1px);height: 1px;margin: -1px;overflow: hidden;padding: 0;position: absolute;width: 1px;}#sk-container-id-2 div.sk-estimator {font-family: monospace;background-color: #f0f8ff;border: 1px dotted black;border-radius: 0.25em;box-sizing: border-box;margin-bottom: 0.5em;}#sk-container-id-2 div.sk-estimator:hover {background-color: #d4ebff;}#sk-container-id-2 div.sk-parallel-item::after {content: \"\";width: 100%;border-bottom: 1px solid gray;flex-grow: 1;}#sk-container-id-2 div.sk-label:hover label.sk-toggleable__label {background-color: #d4ebff;}#sk-container-id-2 div.sk-serial::before {content: \"\";position: absolute;border-left: 1px solid gray;box-sizing: border-box;top: 0;bottom: 0;left: 50%;z-index: 0;}#sk-container-id-2 div.sk-serial {display: flex;flex-direction: column;align-items: center;background-color: white;padding-right: 0.2em;padding-left: 0.2em;position: relative;}#sk-container-id-2 div.sk-item {position: relative;z-index: 1;}#sk-container-id-2 div.sk-parallel {display: flex;align-items: stretch;justify-content: center;background-color: white;position: relative;}#sk-container-id-2 div.sk-item::before, #sk-container-id-2 div.sk-parallel-item::before {content: \"\";position: absolute;border-left: 1px solid gray;box-sizing: border-box;top: 0;bottom: 0;left: 50%;z-index: -1;}#sk-container-id-2 div.sk-parallel-item {display: flex;flex-direction: column;z-index: 1;position: relative;background-color: white;}#sk-container-id-2 div.sk-parallel-item:first-child::after {align-self: flex-end;width: 50%;}#sk-container-id-2 div.sk-parallel-item:last-child::after {align-self: flex-start;width: 50%;}#sk-container-id-2 div.sk-parallel-item:only-child::after {width: 0;}#sk-container-id-2 div.sk-dashed-wrapped {border: 1px dashed gray;margin: 0 0.4em 0.5em 0.4em;box-sizing: border-box;padding-bottom: 0.4em;background-color: white;}#sk-container-id-2 div.sk-label label {font-family: monospace;font-weight: bold;display: inline-block;line-height: 1.2em;}#sk-container-id-2 div.sk-label-container {text-align: center;}#sk-container-id-2 div.sk-container {/* jupyter's `normalize.less` sets `[hidden] { display: none; }` but bootstrap.min.css set `[hidden] { display: none !important; }` so we also need the `!important` here to be able to override the default hidden behavior on the sphinx rendered scikit-learn.org. See: https://github.com/scikit-learn/scikit-learn/issues/21755 */display: inline-block !important;position: relative;}#sk-container-id-2 div.sk-text-repr-fallback {display: none;}</style><div id=\"sk-container-id-2\" class=\"sk-top-container\"><div class=\"sk-text-repr-fallback\"><pre>CountVectorizer()</pre><b>In a Jupyter environment, please rerun this cell to show the HTML representation or trust the notebook. <br />On GitHub, the HTML representation is unable to render, please try loading this page with nbviewer.org.</b></div><div class=\"sk-container\" hidden><div class=\"sk-item\"><div class=\"sk-estimator sk-toggleable\"><input class=\"sk-toggleable__control sk-hidden--visually\" id=\"sk-estimator-id-2\" type=\"checkbox\" checked><label for=\"sk-estimator-id-2\" class=\"sk-toggleable__label sk-toggleable__label-arrow\">CountVectorizer</label><div class=\"sk-toggleable__content\"><pre>CountVectorizer()</pre></div></div></div></div></div>"
            ],
            "text/plain": [
              "CountVectorizer()"
            ]
          },
          "execution_count": 25,
          "metadata": {},
          "output_type": "execute_result"
        }
      ]
    },
    {
      "cell_type": "code",
      "source": [],
      "metadata": {
        "id": "yjEwsxZNSPpx"
      },
      "execution_count": null,
      "outputs": []
    },
    {
      "cell_type": "code",
      "source": [
        "dataTrainCounts = vectorizer.transform([\" \".join(s) for s in dataTrain])\n",
        "dataTestCounts = vectorizer.transform([\" \".join(s) for s in dataTest])"
      ],
      "metadata": {
        "id": "Whwdt8FxVztY"
      },
      "execution_count": null,
      "outputs": []
    },
    {
      "cell_type": "code",
      "source": [
        "dataTrainCounts = dataTrainCounts.astype(np.float64)\n",
        "dataTestCounts = dataTestCounts.astype(np.float64)"
      ],
      "metadata": {
        "id": "GA7O_IbhYcL4"
      },
      "execution_count": null,
      "outputs": []
    },
    {
      "cell_type": "code",
      "source": [
        "dataTestCounts.shape"
      ],
      "metadata": {
        "id": "_s4sWluSXIV_",
        "colab": {
          "base_uri": "https://localhost:8080/"
        },
        "outputId": "1b035805-34c7-4901-f23a-cd8d1fdde645"
      },
      "execution_count": null,
      "outputs": [
        {
          "output_type": "execute_result",
          "data": {
            "text/plain": [
              "(25000, 66365)"
            ]
          },
          "metadata": {},
          "execution_count": 28
        }
      ]
    },
    {
      "cell_type": "code",
      "source": [
        "dataTrainCounts.shape"
      ],
      "metadata": {
        "id": "c1LgCsNXXSOl",
        "colab": {
          "base_uri": "https://localhost:8080/"
        },
        "outputId": "d60488c4-cb48-42e5-a439-d63ea0e3b9c0"
      },
      "execution_count": null,
      "outputs": [
        {
          "output_type": "execute_result",
          "data": {
            "text/plain": [
              "(25000, 66365)"
            ]
          },
          "metadata": {},
          "execution_count": 29
        }
      ]
    },
    {
      "cell_type": "markdown",
      "source": [
        "##Model Training"
      ],
      "metadata": {
        "id": "t15RXN80QlXT"
      }
    },
    {
      "cell_type": "code",
      "source": [
        "#Grid search to find the optimal combination of parameters\n",
        "params = {\n",
        "    'num_leaves': [31, 64, 127],\n",
        "    'learning_rate': [0.1, 0.03, 0.003],\n",
        "    'n_estimators': [100, 200, 500]\n",
        "}\n",
        "\n",
        "grid = GridSearchCV(lgb.LGBMRegressor(random_state=0, n_jobs=-1), params, scoring='r2', cv=5, verbose=10, n_jobs=-1)\n",
        "grid.fit(dataTrainCounts, ratingsTrain/10)\n",
        "\n",
        "lgbm_tuned = grid.best_estimator_\n",
        "\n",
        "params = grid.best_params_"
      ],
      "metadata": {
        "id": "aoEDfm3PSDBs"
      },
      "execution_count": null,
      "outputs": []
    },
    {
      "cell_type": "code",
      "source": [
        "lgbm_tuned"
      ],
      "metadata": {
        "colab": {
          "base_uri": "https://localhost:8080/",
          "height": 92
        },
        "id": "RI1Gj1h-65yJ",
        "outputId": "504ffd4a-56e8-43d6-bd7b-8ce4206cbe04"
      },
      "execution_count": null,
      "outputs": [
        {
          "output_type": "execute_result",
          "data": {
            "text/plain": [
              "LGBMRegressor(learning_rate=0.03, n_estimators=500, num_leaves=127,\n",
              "              random_state=0)"
            ],
            "text/html": [
              "<style>#sk-container-id-3 {color: black;background-color: white;}#sk-container-id-3 pre{padding: 0;}#sk-container-id-3 div.sk-toggleable {background-color: white;}#sk-container-id-3 label.sk-toggleable__label {cursor: pointer;display: block;width: 100%;margin-bottom: 0;padding: 0.3em;box-sizing: border-box;text-align: center;}#sk-container-id-3 label.sk-toggleable__label-arrow:before {content: \"▸\";float: left;margin-right: 0.25em;color: #696969;}#sk-container-id-3 label.sk-toggleable__label-arrow:hover:before {color: black;}#sk-container-id-3 div.sk-estimator:hover label.sk-toggleable__label-arrow:before {color: black;}#sk-container-id-3 div.sk-toggleable__content {max-height: 0;max-width: 0;overflow: hidden;text-align: left;background-color: #f0f8ff;}#sk-container-id-3 div.sk-toggleable__content pre {margin: 0.2em;color: black;border-radius: 0.25em;background-color: #f0f8ff;}#sk-container-id-3 input.sk-toggleable__control:checked~div.sk-toggleable__content {max-height: 200px;max-width: 100%;overflow: auto;}#sk-container-id-3 input.sk-toggleable__control:checked~label.sk-toggleable__label-arrow:before {content: \"▾\";}#sk-container-id-3 div.sk-estimator input.sk-toggleable__control:checked~label.sk-toggleable__label {background-color: #d4ebff;}#sk-container-id-3 div.sk-label input.sk-toggleable__control:checked~label.sk-toggleable__label {background-color: #d4ebff;}#sk-container-id-3 input.sk-hidden--visually {border: 0;clip: rect(1px 1px 1px 1px);clip: rect(1px, 1px, 1px, 1px);height: 1px;margin: -1px;overflow: hidden;padding: 0;position: absolute;width: 1px;}#sk-container-id-3 div.sk-estimator {font-family: monospace;background-color: #f0f8ff;border: 1px dotted black;border-radius: 0.25em;box-sizing: border-box;margin-bottom: 0.5em;}#sk-container-id-3 div.sk-estimator:hover {background-color: #d4ebff;}#sk-container-id-3 div.sk-parallel-item::after {content: \"\";width: 100%;border-bottom: 1px solid gray;flex-grow: 1;}#sk-container-id-3 div.sk-label:hover label.sk-toggleable__label {background-color: #d4ebff;}#sk-container-id-3 div.sk-serial::before {content: \"\";position: absolute;border-left: 1px solid gray;box-sizing: border-box;top: 0;bottom: 0;left: 50%;z-index: 0;}#sk-container-id-3 div.sk-serial {display: flex;flex-direction: column;align-items: center;background-color: white;padding-right: 0.2em;padding-left: 0.2em;position: relative;}#sk-container-id-3 div.sk-item {position: relative;z-index: 1;}#sk-container-id-3 div.sk-parallel {display: flex;align-items: stretch;justify-content: center;background-color: white;position: relative;}#sk-container-id-3 div.sk-item::before, #sk-container-id-3 div.sk-parallel-item::before {content: \"\";position: absolute;border-left: 1px solid gray;box-sizing: border-box;top: 0;bottom: 0;left: 50%;z-index: -1;}#sk-container-id-3 div.sk-parallel-item {display: flex;flex-direction: column;z-index: 1;position: relative;background-color: white;}#sk-container-id-3 div.sk-parallel-item:first-child::after {align-self: flex-end;width: 50%;}#sk-container-id-3 div.sk-parallel-item:last-child::after {align-self: flex-start;width: 50%;}#sk-container-id-3 div.sk-parallel-item:only-child::after {width: 0;}#sk-container-id-3 div.sk-dashed-wrapped {border: 1px dashed gray;margin: 0 0.4em 0.5em 0.4em;box-sizing: border-box;padding-bottom: 0.4em;background-color: white;}#sk-container-id-3 div.sk-label label {font-family: monospace;font-weight: bold;display: inline-block;line-height: 1.2em;}#sk-container-id-3 div.sk-label-container {text-align: center;}#sk-container-id-3 div.sk-container {/* jupyter's `normalize.less` sets `[hidden] { display: none; }` but bootstrap.min.css set `[hidden] { display: none !important; }` so we also need the `!important` here to be able to override the default hidden behavior on the sphinx rendered scikit-learn.org. See: https://github.com/scikit-learn/scikit-learn/issues/21755 */display: inline-block !important;position: relative;}#sk-container-id-3 div.sk-text-repr-fallback {display: none;}</style><div id=\"sk-container-id-3\" class=\"sk-top-container\"><div class=\"sk-text-repr-fallback\"><pre>LGBMRegressor(learning_rate=0.03, n_estimators=500, num_leaves=127,\n",
              "              random_state=0)</pre><b>In a Jupyter environment, please rerun this cell to show the HTML representation or trust the notebook. <br />On GitHub, the HTML representation is unable to render, please try loading this page with nbviewer.org.</b></div><div class=\"sk-container\" hidden><div class=\"sk-item\"><div class=\"sk-estimator sk-toggleable\"><input class=\"sk-toggleable__control sk-hidden--visually\" id=\"sk-estimator-id-3\" type=\"checkbox\" checked><label for=\"sk-estimator-id-3\" class=\"sk-toggleable__label sk-toggleable__label-arrow\">LGBMRegressor</label><div class=\"sk-toggleable__content\"><pre>LGBMRegressor(learning_rate=0.03, n_estimators=500, num_leaves=127,\n",
              "              random_state=0)</pre></div></div></div></div></div>"
            ]
          },
          "metadata": {},
          "execution_count": 44
        }
      ]
    },
    {
      "cell_type": "code",
      "source": [
        "params"
      ],
      "metadata": {
        "colab": {
          "base_uri": "https://localhost:8080/"
        },
        "id": "PthPrYEt679V",
        "outputId": "a38c141a-44af-4991-e32f-dcd4048014e0"
      },
      "execution_count": null,
      "outputs": [
        {
          "output_type": "execute_result",
          "data": {
            "text/plain": [
              "{'learning_rate': 0.03, 'n_estimators': 500, 'num_leaves': 127}"
            ]
          },
          "metadata": {},
          "execution_count": 45
        }
      ]
    },
    {
      "cell_type": "code",
      "source": [
        "clf = lgbm_tuned"
      ],
      "metadata": {
        "id": "2QDlkaBcCT9O"
      },
      "execution_count": null,
      "outputs": []
    },
    {
      "cell_type": "markdown",
      "source": [
        "##Scoring the model"
      ],
      "metadata": {
        "id": "fKyjhvTCSIO-"
      }
    },
    {
      "cell_type": "code",
      "source": [
        "train_r2 = clf.score(dataTrainCounts, ratingsTrain/10)"
      ],
      "metadata": {
        "id": "9xmY8opsRM0p"
      },
      "execution_count": null,
      "outputs": []
    },
    {
      "cell_type": "code",
      "source": [
        "test_r2 = clf.score(dataTestCounts, ratingsTest/10)"
      ],
      "metadata": {
        "id": "WMuujzkwY2YF"
      },
      "execution_count": null,
      "outputs": []
    },
    {
      "cell_type": "code",
      "source": [
        "test_preds = clf.predict(dataTestCounts)\n",
        "test_preds[test_preds<0.1] = 0.1\n",
        "test_preds[test_preds>1] = 1"
      ],
      "metadata": {
        "id": "EwUR6WCnEcEe"
      },
      "execution_count": null,
      "outputs": []
    },
    {
      "cell_type": "code",
      "source": [
        "test_preds = np.load(open(\"./test_preds_bow.npy\",'rb'))"
      ],
      "metadata": {
        "id": "lS1Zz8fQDgXt"
      },
      "execution_count": null,
      "outputs": []
    },
    {
      "cell_type": "code",
      "source": [
        "train_preds = clf.predict(dataTrainCounts)\n",
        "train_preds[train_preds<0.1] = 0.1\n",
        "train_preds[train_preds>1] = 1"
      ],
      "metadata": {
        "id": "EUlbmG24KmdY"
      },
      "execution_count": null,
      "outputs": []
    },
    {
      "cell_type": "code",
      "source": [
        "test_rmse = mean_squared_error(ratingsTest/10,test_preds, squared=False)"
      ],
      "metadata": {
        "id": "5QJws4mzW1Do"
      },
      "execution_count": null,
      "outputs": []
    },
    {
      "cell_type": "code",
      "source": [
        "train_rmse = mean_squared_error(ratingsTrain/10,train_preds, squared=False)"
      ],
      "metadata": {
        "id": "Zgu2Sj7kTJdE"
      },
      "execution_count": null,
      "outputs": []
    },
    {
      "cell_type": "code",
      "source": [
        "print(f\"R2: test={round(test_r2,3)}, train={round(train_r2,3)}\")\n",
        "print(f\"RMSE: test={round(test_rmse,3)}, train={round(train_rmse,3)}\")"
      ],
      "metadata": {
        "colab": {
          "base_uri": "https://localhost:8080/"
        },
        "id": "_V-IxeTSTPIi",
        "outputId": "bac1383a-a528-40c7-ce39-5f47159fb3cb"
      },
      "execution_count": null,
      "outputs": [
        {
          "output_type": "stream",
          "name": "stdout",
          "text": [
            "R2: test=0.617, train=0.884\n",
            "RMSE: test=0.216, train=0.118\n"
          ]
        }
      ]
    },
    {
      "cell_type": "code",
      "source": [
        "# roc curve and auc\n",
        "from sklearn.metrics import roc_curve\n",
        "from sklearn.metrics import roc_auc_score\n",
        "from matplotlib import pyplot\n",
        "\n",
        "\n",
        "test_labels = [1 if l > 4 else 0 for l in ratingsTest]\n",
        "\n",
        "auc = roc_auc_score(test_labels, test_preds)\n",
        "\n",
        "# summarize scores\n",
        "print('Regressor: ROC AUC=%.3f' % (auc))\n",
        "# calculate roc curves\n",
        "fpr, tpr, thresholds = roc_curve(test_labels, test_preds)\n",
        "# plot the roc curve for the model\n",
        "pyplot.plot(fpr, tpr, marker='.', label='Lgbm')\n",
        "# axis labels\n",
        "pyplot.xlabel('False Positive Rate')\n",
        "pyplot.ylabel('True Positive Rate')\n",
        "# show the legend\n",
        "pyplot.legend()\n",
        "# show the plot\n",
        "pyplot.show()"
      ],
      "metadata": {
        "colab": {
          "base_uri": "https://localhost:8080/",
          "height": 466
        },
        "id": "1gJtX5KHTsGR",
        "outputId": "62f78fdb-23eb-4ab8-f23b-4c947cc6c5e6"
      },
      "execution_count": null,
      "outputs": [
        {
          "output_type": "stream",
          "name": "stdout",
          "text": [
            "Regressor: ROC AUC=0.938\n"
          ]
        },
        {
          "output_type": "display_data",
          "data": {
            "text/plain": [
              "<Figure size 640x480 with 1 Axes>"
            ],
            "image/png": "[encoded data removed]"
          },
          "metadata": {}
        }
      ]
    },
    {
      "cell_type": "code",
      "source": [
        "# calculate the g-mean for each threshold\n",
        "gmeans = np.sqrt(tpr * (1-fpr))"
      ],
      "metadata": {
        "id": "B7Sp0TPWWWgo"
      },
      "execution_count": null,
      "outputs": []
    },
    {
      "cell_type": "code",
      "source": [
        "# locate the index of the largest g-mean\n",
        "ix = np.argmax(gmeans)\n",
        "best_thresh = thresholds[ix]\n",
        "print('Best Threshold=%f, G-Mean=%.3f' % (best_thresh, gmeans[ix]))"
      ],
      "metadata": {
        "colab": {
          "base_uri": "https://localhost:8080/"
        },
        "id": "7srKiqrBWfmC",
        "outputId": "1e5677d5-8177-4cc4-e0e8-517ff8972512"
      },
      "execution_count": null,
      "outputs": [
        {
          "output_type": "stream",
          "name": "stdout",
          "text": [
            "Best Threshold=0.556235, G-Mean=0.860\n"
          ]
        }
      ]
    },
    {
      "cell_type": "code",
      "source": [
        "test_preds_labels = np.array([1 if s >best_thresh else 0 for s in test_preds])"
      ],
      "metadata": {
        "id": "C1YwNProUs9c"
      },
      "execution_count": null,
      "outputs": []
    },
    {
      "cell_type": "code",
      "source": [
        "print(classification_report(test_labels, test_preds_labels))"
      ],
      "metadata": {
        "colab": {
          "base_uri": "https://localhost:8080/"
        },
        "id": "jVWHUM8eW5en",
        "outputId": "f23ad380-be0d-46ff-f529-3ee32483ed8d"
      },
      "execution_count": null,
      "outputs": [
        {
          "output_type": "stream",
          "name": "stdout",
          "text": [
            "              precision    recall  f1-score   support\n",
            "\n",
            "           0       0.86      0.86      0.86     12500\n",
            "           1       0.86      0.86      0.86     12500\n",
            "\n",
            "    accuracy                           0.86     25000\n",
            "   macro avg       0.86      0.86      0.86     25000\n",
            "weighted avg       0.86      0.86      0.86     25000\n",
            "\n"
          ]
        }
      ]
    },
    {
      "cell_type": "code",
      "source": [
        "test_preds_scores = np.array([s*10 for s in test_preds])"
      ],
      "metadata": {
        "id": "aOWG6es6Zr5P"
      },
      "execution_count": null,
      "outputs": []
    },
    {
      "cell_type": "code",
      "source": [
        "preds_by_rating = {}\n",
        "\n",
        "for r,p in zip(ratingsTest,test_preds_scores):\n",
        "  if r not in preds_by_rating:\n",
        "    preds_by_rating[r] = []\n",
        "\n",
        "  preds_by_rating[r].append(p)"
      ],
      "metadata": {
        "id": "dw6MD-wJbWTR"
      },
      "execution_count": null,
      "outputs": []
    },
    {
      "cell_type": "code",
      "source": [
        "f, axs = plt.subplots(2, 4, figsize=(15, 8))\n",
        "\n",
        "for id,rating in enumerate(sorted(preds_by_rating.keys())):\n",
        "  preds = np.array(preds_by_rating[rating])\n",
        "  print(f\"rating: {rating}, preds mean: {round(preds.mean(),3)}, std: {round(preds.std(),3)}\")\n",
        "  plt.subplot(2,4,id+1)\n",
        "  n, bins, patches = plt.hist(preds)\n",
        "  patches[rating-1].set_fc('r')\n",
        "  plt.title(rating)\n",
        "plt.show()"
      ],
      "metadata": {
        "colab": {
          "base_uri": "https://localhost:8080/",
          "height": 748
        },
        "id": "r6uy28eJb1hd",
        "outputId": "aef07892-16f1-4659-8413-5b0c04758f84"
      },
      "execution_count": null,
      "outputs": [
        {
          "output_type": "stream",
          "name": "stdout",
          "text": [
            "rating: 1, preds mean: 2.8, std: 1.57\n",
            "rating: 2, preds mean: 3.33, std: 1.663\n",
            "rating: 3, preds mean: 3.877, std: 1.645\n",
            "rating: 4, preds mean: 4.436, std: 1.689\n",
            "rating: 7, preds mean: 6.61, std: 1.63\n",
            "rating: 8, preds mean: 7.231, std: 1.592\n",
            "rating: 9, preds mean: 7.613, std: 1.56\n",
            "rating: 10, preds mean: 7.887, std: 1.573\n"
          ]
        },
        {
          "output_type": "display_data",
          "data": {
            "text/plain": [
              "<Figure size 1500x800 with 8 Axes>"
            ],
            "image/png": "[encoded data removed]"
          },
          "metadata": {}
        }
      ]
    },
    {
      "cell_type": "markdown",
      "source": [
        "##Save model and predictions"
      ],
      "metadata": {
        "id": "BxWWl1Qpfhi3"
      }
    },
    {
      "cell_type": "code",
      "source": [
        "import joblib"
      ],
      "metadata": {
        "id": "XZ55-FRqS-mf"
      },
      "execution_count": null,
      "outputs": []
    },
    {
      "cell_type": "code",
      "source": [
        "joblib.dump(clf, 'BoW_lgbm.pkl')"
      ],
      "metadata": {
        "colab": {
          "base_uri": "https://localhost:8080/"
        },
        "id": "zzt07ocWakx1",
        "outputId": "d4ac6991-9c19-464f-81d9-9369671e661c"
      },
      "execution_count": null,
      "outputs": [
        {
          "output_type": "execute_result",
          "data": {
            "text/plain": [
              "['BoW_lgbm.pkl']"
            ]
          },
          "metadata": {},
          "execution_count": 139
        }
      ]
    },
    {
      "cell_type": "code",
      "source": [
        "joblib.dump(vectorizer, 'BoW_lgbm_vectorizer.pkl')"
      ],
      "metadata": {
        "colab": {
          "base_uri": "https://localhost:8080/"
        },
        "id": "mySQtIRISRyh",
        "outputId": "5748cec0-df8c-4fe9-ccd6-d78c4bca15c5"
      },
      "execution_count": null,
      "outputs": [
        {
          "output_type": "execute_result",
          "data": {
            "text/plain": [
              "['BoW_lgbm_vectorizer.pkl']"
            ]
          },
          "metadata": {},
          "execution_count": 14
        }
      ]
    },
    {
      "cell_type": "code",
      "source": [
        "with open('test_preds_bow.npy','wb') as out:\n",
        "  np.save(out,test_preds)"
      ],
      "metadata": {
        "id": "j1p9jBoFjwcW"
      },
      "execution_count": null,
      "outputs": []
    }
  ]
}