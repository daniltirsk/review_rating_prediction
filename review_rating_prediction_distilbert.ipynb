{
  "nbformat": 4,
  "nbformat_minor": 0,
  "metadata": {
    "colab": {
      "provenance": [],
      "gpuType": "T4",
      "collapsed_sections": [
        "La5X8a6UlRtB"
      ]
    },
    "kernelspec": {
      "name": "python3",
      "display_name": "Python 3"
    },
    "language_info": {
      "name": "python"
    },
    "accelerator": "GPU"
  },
  "cells": [
    {
      "cell_type": "markdown",
      "source": [
        "##Imports and Data Loading"
      ],
      "metadata": {
        "id": "m-_HubuUlAvJ"
      }
    },
    {
      "cell_type": "code",
      "execution_count": null,
      "metadata": {
        "id": "RDPkCDSf0vfE"
      },
      "outputs": [],
      "source": [
        "!cp \"./drive/MyDrive/test task/aclImdb_v1.tar.gz\" ./dataset.tar.gz"
      ]
    },
    {
      "cell_type": "code",
      "source": [
        "!tar -xf dataset.tar.gz"
      ],
      "metadata": {
        "id": "njxSBs_V2W-_"
      },
      "execution_count": null,
      "outputs": []
    },
    {
      "cell_type": "code",
      "source": [
        "!pip install datasets"
      ],
      "metadata": {
        "id": "XdaQG5YMJhRW"
      },
      "execution_count": null,
      "outputs": []
    },
    {
      "cell_type": "code",
      "source": [
        "!pip install transformers"
      ],
      "metadata": {
        "id": "xw2dX2o8KQ4p"
      },
      "execution_count": null,
      "outputs": []
    },
    {
      "cell_type": "code",
      "source": [
        "!pip install accelerate -U"
      ],
      "metadata": {
        "id": "jRk1rK2TLZwE"
      },
      "execution_count": null,
      "outputs": []
    },
    {
      "cell_type": "code",
      "source": [
        "from datasets import Dataset\n",
        "import glob\n",
        "import os\n",
        "import torch\n",
        "from transformers import AutoTokenizer, AutoModelForSequenceClassification, DataCollatorWithPadding\n",
        "from torch.utils.data import DataLoader"
      ],
      "metadata": {
        "id": "g51yCI8jJfyP"
      },
      "execution_count": null,
      "outputs": []
    },
    {
      "cell_type": "code",
      "source": [
        "BASE_MODEL = \"lvwerra/distilbert-imdb\"\n",
        "\n",
        "tokenizer = AutoTokenizer.from_pretrained(BASE_MODEL)\n",
        "model = AutoModelForSequenceClassification.from_pretrained(BASE_MODEL, num_labels=1, ignore_mismatched_sizes=True)"
      ],
      "metadata": {
        "id": "vm6KNpk2P4r4"
      },
      "execution_count": null,
      "outputs": []
    },
    {
      "cell_type": "markdown",
      "source": [
        "##Preprocessing"
      ],
      "metadata": {
        "id": "La5X8a6UlRtB"
      }
    },
    {
      "cell_type": "code",
      "source": [
        "def preprocess(data_path):\n",
        "  data_neg_paths = glob.glob(os.path.join(data_path,'neg/*'))\n",
        "  data_pos_paths = glob.glob(os.path.join(data_path,'pos/*'))\n",
        "\n",
        "  paths = data_neg_paths + data_pos_paths\n",
        "\n",
        "  data = []\n",
        "\n",
        "  for path in paths:\n",
        "    rating = int(path.split('/')[-1].split('_')[-1][:-4])\n",
        "\n",
        "    with open(path,'r') as inp:\n",
        "      text = inp.read()\n",
        "\n",
        "    tokens = tokenizer(text, truncation=True, padding=\"max_length\", max_length=512)\n",
        "    data.append({\"input_ids\":tokens['input_ids'],\"attention_mask\":tokens['attention_mask'],\"label\":rating/10})\n",
        "\n",
        "  return Dataset.from_list(data)"
      ],
      "metadata": {
        "id": "WVPOmN0MNJ_N"
      },
      "execution_count": null,
      "outputs": []
    },
    {
      "cell_type": "code",
      "source": [
        "dataTest = preprocess(\"./aclImdb/test\")"
      ],
      "metadata": {
        "id": "fVMWx5udPAdY"
      },
      "execution_count": null,
      "outputs": []
    },
    {
      "cell_type": "code",
      "source": [
        "data = preprocess(\"./aclImdb/train\")"
      ],
      "metadata": {
        "id": "_3eBMXaaUuhu"
      },
      "execution_count": null,
      "outputs": []
    },
    {
      "cell_type": "code",
      "source": [
        "data = data.train_test_split(0.1,seed=42)\n",
        "dataValid = data['test']\n",
        "dataTrain = data['train']"
      ],
      "metadata": {
        "id": "CvQ3wKQm_5EY"
      },
      "execution_count": null,
      "outputs": []
    },
    {
      "cell_type": "code",
      "source": [
        "dataTest"
      ],
      "metadata": {
        "colab": {
          "base_uri": "https://localhost:8080/"
        },
        "id": "f-lw_T6GP03T",
        "outputId": "5264eb53-e949-48bd-bab1-5706c25a4a94"
      },
      "execution_count": null,
      "outputs": [
        {
          "output_type": "execute_result",
          "data": {
            "text/plain": [
              "Dataset({\n",
              "    features: ['input_ids', 'attention_mask', 'label'],\n",
              "    num_rows: 25000\n",
              "})"
            ]
          },
          "metadata": {},
          "execution_count": 7
        }
      ]
    },
    {
      "cell_type": "code",
      "source": [
        "dataTrain"
      ],
      "metadata": {
        "colab": {
          "base_uri": "https://localhost:8080/"
        },
        "id": "22MFo14IA6bi",
        "outputId": "5be1b5c8-4d09-4124-c685-92ced1031bdd"
      },
      "execution_count": null,
      "outputs": [
        {
          "output_type": "execute_result",
          "data": {
            "text/plain": [
              "Dataset({\n",
              "    features: ['input_ids', 'attention_mask', 'label'],\n",
              "    num_rows: 22500\n",
              "})"
            ]
          },
          "metadata": {},
          "execution_count": 8
        }
      ]
    },
    {
      "cell_type": "code",
      "source": [
        "dataValid"
      ],
      "metadata": {
        "colab": {
          "base_uri": "https://localhost:8080/"
        },
        "id": "BXTyh-nqA5F5",
        "outputId": "c3a7d657-e5d2-4bda-89cf-8d4bfc4b1312"
      },
      "execution_count": null,
      "outputs": [
        {
          "output_type": "execute_result",
          "data": {
            "text/plain": [
              "Dataset({\n",
              "    features: ['input_ids', 'attention_mask', 'label'],\n",
              "    num_rows: 2500\n",
              "})"
            ]
          },
          "metadata": {},
          "execution_count": 9
        }
      ]
    },
    {
      "cell_type": "markdown",
      "source": [
        "##Train the Model"
      ],
      "metadata": {
        "id": "asoNyVmglu-D"
      }
    },
    {
      "cell_type": "code",
      "source": [
        "from sklearn.metrics import mean_absolute_error\n",
        "from sklearn.metrics import mean_squared_error\n",
        "from sklearn.metrics import r2_score\n",
        "\n",
        "def compute_metrics_for_regression(eval_pred):\n",
        "    logits, labels = eval_pred\n",
        "    labels = labels.reshape(-1, 1)\n",
        "\n",
        "    rmse = mean_squared_error(labels, logits, squared=False)\n",
        "    mae = mean_absolute_error(labels, logits)\n",
        "    r2 = r2_score(labels, logits)\n",
        "\n",
        "    return {\"rmse\": rmse, \"mae\": mae, \"r2\": r2}"
      ],
      "metadata": {
        "id": "gkkWhHukKrqW"
      },
      "execution_count": null,
      "outputs": []
    },
    {
      "cell_type": "code",
      "source": [
        "from transformers import TrainingArguments, Trainer\n",
        "\n",
        "LEARNING_RATE = 2e-5\n",
        "BATCH_SIZE = 16\n",
        "EPOCHS = 5\n",
        "\n",
        "training_args = TrainingArguments(\n",
        "    output_dir=\"./models/distilbert-review-rating\",\n",
        "    learning_rate=LEARNING_RATE,\n",
        "    per_device_train_batch_size=BATCH_SIZE,\n",
        "    per_device_eval_batch_size=BATCH_SIZE,\n",
        "    num_train_epochs=EPOCHS,\n",
        "    evaluation_strategy=\"epoch\",\n",
        "    save_strategy=\"epoch\",\n",
        "    save_total_limit=2,\n",
        "    metric_for_best_model=\"rmse\",\n",
        "    load_best_model_at_end=True,\n",
        "    weight_decay=0.01,\n",
        ")"
      ],
      "metadata": {
        "id": "XlK7xbVnK0XV"
      },
      "execution_count": null,
      "outputs": []
    },
    {
      "cell_type": "code",
      "source": [
        "class RegressionTrainer(Trainer):\n",
        "    def compute_loss(self, model, inputs, return_outputs=False):\n",
        "        labels = inputs.pop(\"labels\")\n",
        "        outputs = model(**inputs)\n",
        "        logits = outputs[0][:, 0]\n",
        "        loss = torch.nn.functional.mse_loss(logits, labels)\n",
        "        return (loss, outputs) if return_outputs else loss"
      ],
      "metadata": {
        "id": "RNbNmoVffbLf"
      },
      "execution_count": null,
      "outputs": []
    },
    {
      "cell_type": "code",
      "source": [
        "trainer = RegressionTrainer(\n",
        "    model=model,\n",
        "    args=training_args,\n",
        "    train_dataset=dataTrain,\n",
        "    eval_dataset=dataValid,\n",
        "    compute_metrics=compute_metrics_for_regression,\n",
        ")"
      ],
      "metadata": {
        "id": "7EjjiLo3K3vt"
      },
      "execution_count": null,
      "outputs": []
    },
    {
      "cell_type": "code",
      "source": [
        "for name, para in model.named_parameters():\n",
        "  print(name)"
      ],
      "metadata": {
        "colab": {
          "base_uri": "https://localhost:8080/"
        },
        "id": "14s2PgoAceU0",
        "outputId": "57304b69-f97f-4a4e-986d-5ca9b50170c4"
      },
      "execution_count": null,
      "outputs": [
        {
          "output_type": "stream",
          "name": "stdout",
          "text": [
            "distilbert.embeddings.word_embeddings.weight\n",
            "distilbert.embeddings.position_embeddings.weight\n",
            "distilbert.embeddings.LayerNorm.weight\n",
            "distilbert.embeddings.LayerNorm.bias\n",
            "distilbert.transformer.layer.0.attention.q_lin.weight\n",
            "distilbert.transformer.layer.0.attention.q_lin.bias\n",
            "distilbert.transformer.layer.0.attention.k_lin.weight\n",
            "distilbert.transformer.layer.0.attention.k_lin.bias\n",
            "distilbert.transformer.layer.0.attention.v_lin.weight\n",
            "distilbert.transformer.layer.0.attention.v_lin.bias\n",
            "distilbert.transformer.layer.0.attention.out_lin.weight\n",
            "distilbert.transformer.layer.0.attention.out_lin.bias\n",
            "distilbert.transformer.layer.0.sa_layer_norm.weight\n",
            "distilbert.transformer.layer.0.sa_layer_norm.bias\n",
            "distilbert.transformer.layer.0.ffn.lin1.weight\n",
            "distilbert.transformer.layer.0.ffn.lin1.bias\n",
            "distilbert.transformer.layer.0.ffn.lin2.weight\n",
            "distilbert.transformer.layer.0.ffn.lin2.bias\n",
            "distilbert.transformer.layer.0.output_layer_norm.weight\n",
            "distilbert.transformer.layer.0.output_layer_norm.bias\n",
            "distilbert.transformer.layer.1.attention.q_lin.weight\n",
            "distilbert.transformer.layer.1.attention.q_lin.bias\n",
            "distilbert.transformer.layer.1.attention.k_lin.weight\n",
            "distilbert.transformer.layer.1.attention.k_lin.bias\n",
            "distilbert.transformer.layer.1.attention.v_lin.weight\n",
            "distilbert.transformer.layer.1.attention.v_lin.bias\n",
            "distilbert.transformer.layer.1.attention.out_lin.weight\n",
            "distilbert.transformer.layer.1.attention.out_lin.bias\n",
            "distilbert.transformer.layer.1.sa_layer_norm.weight\n",
            "distilbert.transformer.layer.1.sa_layer_norm.bias\n",
            "distilbert.transformer.layer.1.ffn.lin1.weight\n",
            "distilbert.transformer.layer.1.ffn.lin1.bias\n",
            "distilbert.transformer.layer.1.ffn.lin2.weight\n",
            "distilbert.transformer.layer.1.ffn.lin2.bias\n",
            "distilbert.transformer.layer.1.output_layer_norm.weight\n",
            "distilbert.transformer.layer.1.output_layer_norm.bias\n",
            "distilbert.transformer.layer.2.attention.q_lin.weight\n",
            "distilbert.transformer.layer.2.attention.q_lin.bias\n",
            "distilbert.transformer.layer.2.attention.k_lin.weight\n",
            "distilbert.transformer.layer.2.attention.k_lin.bias\n",
            "distilbert.transformer.layer.2.attention.v_lin.weight\n",
            "distilbert.transformer.layer.2.attention.v_lin.bias\n",
            "distilbert.transformer.layer.2.attention.out_lin.weight\n",
            "distilbert.transformer.layer.2.attention.out_lin.bias\n",
            "distilbert.transformer.layer.2.sa_layer_norm.weight\n",
            "distilbert.transformer.layer.2.sa_layer_norm.bias\n",
            "distilbert.transformer.layer.2.ffn.lin1.weight\n",
            "distilbert.transformer.layer.2.ffn.lin1.bias\n",
            "distilbert.transformer.layer.2.ffn.lin2.weight\n",
            "distilbert.transformer.layer.2.ffn.lin2.bias\n",
            "distilbert.transformer.layer.2.output_layer_norm.weight\n",
            "distilbert.transformer.layer.2.output_layer_norm.bias\n",
            "distilbert.transformer.layer.3.attention.q_lin.weight\n",
            "distilbert.transformer.layer.3.attention.q_lin.bias\n",
            "distilbert.transformer.layer.3.attention.k_lin.weight\n",
            "distilbert.transformer.layer.3.attention.k_lin.bias\n",
            "distilbert.transformer.layer.3.attention.v_lin.weight\n",
            "distilbert.transformer.layer.3.attention.v_lin.bias\n",
            "distilbert.transformer.layer.3.attention.out_lin.weight\n",
            "distilbert.transformer.layer.3.attention.out_lin.bias\n",
            "distilbert.transformer.layer.3.sa_layer_norm.weight\n",
            "distilbert.transformer.layer.3.sa_layer_norm.bias\n",
            "distilbert.transformer.layer.3.ffn.lin1.weight\n",
            "distilbert.transformer.layer.3.ffn.lin1.bias\n",
            "distilbert.transformer.layer.3.ffn.lin2.weight\n",
            "distilbert.transformer.layer.3.ffn.lin2.bias\n",
            "distilbert.transformer.layer.3.output_layer_norm.weight\n",
            "distilbert.transformer.layer.3.output_layer_norm.bias\n",
            "distilbert.transformer.layer.4.attention.q_lin.weight\n",
            "distilbert.transformer.layer.4.attention.q_lin.bias\n",
            "distilbert.transformer.layer.4.attention.k_lin.weight\n",
            "distilbert.transformer.layer.4.attention.k_lin.bias\n",
            "distilbert.transformer.layer.4.attention.v_lin.weight\n",
            "distilbert.transformer.layer.4.attention.v_lin.bias\n",
            "distilbert.transformer.layer.4.attention.out_lin.weight\n",
            "distilbert.transformer.layer.4.attention.out_lin.bias\n",
            "distilbert.transformer.layer.4.sa_layer_norm.weight\n",
            "distilbert.transformer.layer.4.sa_layer_norm.bias\n",
            "distilbert.transformer.layer.4.ffn.lin1.weight\n",
            "distilbert.transformer.layer.4.ffn.lin1.bias\n",
            "distilbert.transformer.layer.4.ffn.lin2.weight\n",
            "distilbert.transformer.layer.4.ffn.lin2.bias\n",
            "distilbert.transformer.layer.4.output_layer_norm.weight\n",
            "distilbert.transformer.layer.4.output_layer_norm.bias\n",
            "distilbert.transformer.layer.5.attention.q_lin.weight\n",
            "distilbert.transformer.layer.5.attention.q_lin.bias\n",
            "distilbert.transformer.layer.5.attention.k_lin.weight\n",
            "distilbert.transformer.layer.5.attention.k_lin.bias\n",
            "distilbert.transformer.layer.5.attention.v_lin.weight\n",
            "distilbert.transformer.layer.5.attention.v_lin.bias\n",
            "distilbert.transformer.layer.5.attention.out_lin.weight\n",
            "distilbert.transformer.layer.5.attention.out_lin.bias\n",
            "distilbert.transformer.layer.5.sa_layer_norm.weight\n",
            "distilbert.transformer.layer.5.sa_layer_norm.bias\n",
            "distilbert.transformer.layer.5.ffn.lin1.weight\n",
            "distilbert.transformer.layer.5.ffn.lin1.bias\n",
            "distilbert.transformer.layer.5.ffn.lin2.weight\n",
            "distilbert.transformer.layer.5.ffn.lin2.bias\n",
            "distilbert.transformer.layer.5.output_layer_norm.weight\n",
            "distilbert.transformer.layer.5.output_layer_norm.bias\n",
            "pre_classifier.weight\n",
            "pre_classifier.bias\n",
            "classifier.weight\n",
            "classifier.bias\n"
          ]
        }
      ]
    },
    {
      "cell_type": "code",
      "source": [
        "parameters_to_tune = [name for name, para in model.named_parameters()][-6:]"
      ],
      "metadata": {
        "id": "VVm42j40W2rD"
      },
      "execution_count": null,
      "outputs": []
    },
    {
      "cell_type": "code",
      "source": [
        "parameters_to_tune"
      ],
      "metadata": {
        "colab": {
          "base_uri": "https://localhost:8080/"
        },
        "id": "Vh-JbLqBc2PT",
        "outputId": "3f92ffa5-8d18-4e41-ff41-7e5f47689ccc"
      },
      "execution_count": null,
      "outputs": [
        {
          "output_type": "execute_result",
          "data": {
            "text/plain": [
              "['distilbert.transformer.layer.5.output_layer_norm.weight',\n",
              " 'distilbert.transformer.layer.5.output_layer_norm.bias',\n",
              " 'pre_classifier.weight',\n",
              " 'pre_classifier.bias',\n",
              " 'classifier.weight',\n",
              " 'classifier.bias']"
            ]
          },
          "metadata": {},
          "execution_count": 77
        }
      ]
    },
    {
      "cell_type": "code",
      "source": [
        "for name, para in model.named_parameters():\n",
        "  if name not in parameters_to_tune:\n",
        "    para.requires_grad = False\n",
        "  else:\n",
        "    para.requires_grad = True\n",
        "    print(name)"
      ],
      "metadata": {
        "colab": {
          "base_uri": "https://localhost:8080/"
        },
        "id": "b-7wfXyQVU3-",
        "outputId": "77631c2f-0b89-44d3-8d1c-3001e4b194cd"
      },
      "execution_count": null,
      "outputs": [
        {
          "output_type": "stream",
          "name": "stdout",
          "text": [
            "distilbert.transformer.layer.5.output_layer_norm.weight\n",
            "distilbert.transformer.layer.5.output_layer_norm.bias\n",
            "pre_classifier.weight\n",
            "pre_classifier.bias\n",
            "classifier.weight\n",
            "classifier.bias\n"
          ]
        }
      ]
    },
    {
      "cell_type": "code",
      "source": [
        "trainer.train()"
      ],
      "metadata": {
        "colab": {
          "base_uri": "https://localhost:8080/",
          "height": 356
        },
        "id": "OxO2EB6nMLZj",
        "outputId": "eda3e5c6-038d-4f5a-c44a-96995b02be61"
      },
      "execution_count": null,
      "outputs": [
        {
          "output_type": "stream",
          "name": "stderr",
          "text": [
            "/usr/local/lib/python3.10/dist-packages/transformers/optimization.py:411: FutureWarning: This implementation of AdamW is deprecated and will be removed in a future version. Use the PyTorch implementation torch.optim.AdamW instead, or set `no_deprecation_warning=True` to disable this warning\n",
            "  warnings.warn(\n"
          ]
        },
        {
          "output_type": "display_data",
          "data": {
            "text/plain": [
              "<IPython.core.display.HTML object>"
            ],
            "text/html": [
              "\n",
              "    <div>\n",
              "      \n",
              "      <progress value='7035' max='7035' style='width:300px; height:20px; vertical-align: middle;'></progress>\n",
              "      [7035/7035 37:33, Epoch 5/5]\n",
              "    </div>\n",
              "    <table border=\"1\" class=\"dataframe\">\n",
              "  <thead>\n",
              " <tr style=\"text-align: left;\">\n",
              "      <th>Epoch</th>\n",
              "      <th>Training Loss</th>\n",
              "      <th>Validation Loss</th>\n",
              "      <th>Rmse</th>\n",
              "      <th>Mae</th>\n",
              "      <th>R2</th>\n",
              "    </tr>\n",
              "  </thead>\n",
              "  <tbody>\n",
              "    <tr>\n",
              "      <td>1</td>\n",
              "      <td>0.027100</td>\n",
              "      <td>0.019469</td>\n",
              "      <td>0.139531</td>\n",
              "      <td>0.100945</td>\n",
              "      <td>0.835081</td>\n",
              "    </tr>\n",
              "    <tr>\n",
              "      <td>2</td>\n",
              "      <td>0.022300</td>\n",
              "      <td>0.019139</td>\n",
              "      <td>0.138343</td>\n",
              "      <td>0.101930</td>\n",
              "      <td>0.837877</td>\n",
              "    </tr>\n",
              "    <tr>\n",
              "      <td>3</td>\n",
              "      <td>0.021000</td>\n",
              "      <td>0.019069</td>\n",
              "      <td>0.138089</td>\n",
              "      <td>0.099034</td>\n",
              "      <td>0.838472</td>\n",
              "    </tr>\n",
              "    <tr>\n",
              "      <td>4</td>\n",
              "      <td>0.020900</td>\n",
              "      <td>0.019351</td>\n",
              "      <td>0.139106</td>\n",
              "      <td>0.098985</td>\n",
              "      <td>0.836084</td>\n",
              "    </tr>\n",
              "    <tr>\n",
              "      <td>5</td>\n",
              "      <td>0.021100</td>\n",
              "      <td>0.019095</td>\n",
              "      <td>0.138185</td>\n",
              "      <td>0.098708</td>\n",
              "      <td>0.838247</td>\n",
              "    </tr>\n",
              "  </tbody>\n",
              "</table><p>"
            ]
          },
          "metadata": {}
        },
        {
          "output_type": "execute_result",
          "data": {
            "text/plain": [
              "TrainOutput(global_step=7035, training_loss=0.023474483017219917, metrics={'train_runtime': 2254.0432, 'train_samples_per_second': 49.91, 'train_steps_per_second': 3.121, 'total_flos': 1.49023165824e+16, 'train_loss': 0.023474483017219917, 'epoch': 5.0})"
            ]
          },
          "metadata": {},
          "execution_count": 79
        }
      ]
    },
    {
      "cell_type": "markdown",
      "source": [
        "#Evaluate model"
      ],
      "metadata": {
        "id": "78_JsnHbmNQt"
      }
    },
    {
      "cell_type": "code",
      "source": [
        "!cp \"/content/drive/MyDrive/test task/distilbert-review-rating\" ./ -R"
      ],
      "metadata": {
        "id": "RyekKVqHm1Ol"
      },
      "execution_count": null,
      "outputs": []
    },
    {
      "cell_type": "code",
      "source": [
        "model_path = './distilbert-review-rating/checkpoint-7035'\n",
        "tokenizer = AutoTokenizer.from_pretrained(BASE_MODEL)\n",
        "model = AutoModelForSequenceClassification.from_pretrained(model_path, num_labels=1)\n",
        "\n",
        "trainer = RegressionTrainer(\n",
        "    model=model,\n",
        "    args=training_args,\n",
        "    train_dataset=dataTrain,\n",
        "    eval_dataset=dataValid,\n",
        "    compute_metrics=compute_metrics_for_regression,\n",
        ")"
      ],
      "metadata": {
        "id": "VSYioSagnXKn"
      },
      "execution_count": null,
      "outputs": []
    },
    {
      "cell_type": "code",
      "source": [
        "trainer.eval_dataset=dataTest\n",
        "trainer.evaluate()"
      ],
      "metadata": {
        "colab": {
          "base_uri": "https://localhost:8080/",
          "height": 176
        },
        "id": "AYHlxrYPaCpb",
        "outputId": "beea4fe9-3d89-4a6a-d5d0-0934a77b8809"
      },
      "execution_count": null,
      "outputs": [
        {
          "output_type": "display_data",
          "data": {
            "text/plain": [
              "<IPython.core.display.HTML object>"
            ],
            "text/html": [
              "\n",
              "    <div>\n",
              "      \n",
              "      <progress value='1563' max='1563' style='width:300px; height:20px; vertical-align: middle;'></progress>\n",
              "      [1563/1563 07:12]\n",
              "    </div>\n",
              "    "
            ]
          },
          "metadata": {}
        },
        {
          "output_type": "execute_result",
          "data": {
            "text/plain": [
              "{'eval_loss': 0.027737870812416077,\n",
              " 'eval_rmse': 0.16654689610004425,\n",
              " 'eval_mae': 0.11524546891450882,\n",
              " 'eval_r2': 0.7723775362790705,\n",
              " 'eval_runtime': 432.3623,\n",
              " 'eval_samples_per_second': 57.822,\n",
              " 'eval_steps_per_second': 3.615,\n",
              " 'epoch': 5.0}"
            ]
          },
          "metadata": {},
          "execution_count": 80
        }
      ]
    },
    {
      "cell_type": "markdown",
      "source": [
        "##Scoring the model"
      ],
      "metadata": {
        "id": "fKyjhvTCSIO-"
      }
    },
    {
      "cell_type": "code",
      "source": [
        "from sklearn.metrics import r2_score\n",
        "import numpy as np\n",
        "import matplotlib.pyplot as plt"
      ],
      "metadata": {
        "id": "bqmFlZj1z3k3"
      },
      "execution_count": null,
      "outputs": []
    },
    {
      "cell_type": "code",
      "source": [
        "preds = trainer.predict(dataTest)"
      ],
      "metadata": {
        "colab": {
          "base_uri": "https://localhost:8080/",
          "height": 17
        },
        "outputId": "26f8d618-58cb-4ab2-9e3a-744078d5a014",
        "id": "7p5huPQ0zdWA"
      },
      "execution_count": null,
      "outputs": [
        {
          "output_type": "display_data",
          "data": {
            "text/plain": [
              "<IPython.core.display.HTML object>"
            ],
            "text/html": []
          },
          "metadata": {}
        }
      ]
    },
    {
      "cell_type": "code",
      "source": [
        "preds"
      ],
      "metadata": {
        "colab": {
          "base_uri": "https://localhost:8080/"
        },
        "id": "59NBlhhlz4YT",
        "outputId": "0bf75582-21a8-40e6-dc86-d457f4a93838"
      },
      "execution_count": null,
      "outputs": [
        {
          "output_type": "execute_result",
          "data": {
            "text/plain": [
              "PredictionOutput(predictions=array([[0.3471922 ],\n",
              "       [0.08967724],\n",
              "       [0.3750235 ],\n",
              "       ...,\n",
              "       [1.0106809 ],\n",
              "       [0.5419685 ],\n",
              "       [0.9782608 ]], dtype=float32), label_ids=array([0.3, 0.1, 0.3, ..., 1. , 0.7, 0.9], dtype=float32), metrics={'test_loss': 0.027350058779120445, 'test_rmse': 0.16537852585315704, 'test_mae': 0.11325232684612274, 'test_r2': 0.7755600210909444, 'test_runtime': 443.5843, 'test_samples_per_second': 56.359, 'test_steps_per_second': 3.524})"
            ]
          },
          "metadata": {},
          "execution_count": 33
        }
      ]
    },
    {
      "cell_type": "code",
      "source": [
        "test_preds = preds[0]\n",
        "test_preds[test_preds<0.1] = 0.1\n",
        "test_preds[test_preds>1] = 1\n",
        "\n",
        "test_ratings = preds[1]"
      ],
      "metadata": {
        "id": "J_LAHKlpzdWA"
      },
      "execution_count": null,
      "outputs": []
    },
    {
      "cell_type": "code",
      "source": [
        "test_r2 = r2_score(test_ratings,test_preds)"
      ],
      "metadata": {
        "id": "j4lWaw1Mz7ye"
      },
      "execution_count": null,
      "outputs": []
    },
    {
      "cell_type": "code",
      "source": [
        "test_rmse = mean_squared_error(test_ratings,test_preds, squared=False)"
      ],
      "metadata": {
        "id": "5QJws4mzW1Do"
      },
      "execution_count": null,
      "outputs": []
    },
    {
      "cell_type": "code",
      "source": [
        "print(f\"R2: test = {round(test_r2,3)}\")\n",
        "print(\"RMSE: test=\",round(test_rmse,3))"
      ],
      "metadata": {
        "colab": {
          "base_uri": "https://localhost:8080/"
        },
        "id": "_V-IxeTSTPIi",
        "outputId": "f311b0bc-d6e9-421d-8b3f-a427d66cde39"
      },
      "execution_count": null,
      "outputs": [
        {
          "output_type": "stream",
          "name": "stdout",
          "text": [
            "R2: test = 0.776\n",
            "RMSE: test= 0.165\n"
          ]
        }
      ]
    },
    {
      "cell_type": "code",
      "source": [
        "# roc curve and auc\n",
        "from sklearn.metrics import roc_curve\n",
        "from sklearn.metrics import roc_auc_score\n",
        "from matplotlib import pyplot\n",
        "from sklearn.metrics import accuracy_score, f1_score, classification_report\n",
        "\n",
        "\n",
        "test_labels = [1 if l > 0.4 else 0 for l in test_ratings]\n",
        "\n",
        "auc = roc_auc_score(test_labels, test_preds)\n",
        "\n",
        "# summarize scores\n",
        "print('Regressor: ROC AUC=%.3f' % (auc))\n",
        "# calculate roc curves\n",
        "fpr, tpr, thresholds = roc_curve(test_labels, test_preds)\n",
        "# plot the roc curve for the model\n",
        "pyplot.plot(fpr, tpr, marker='.', label='distilbert')\n",
        "# axis labels\n",
        "pyplot.xlabel('False Positive Rate')\n",
        "pyplot.ylabel('True Positive Rate')\n",
        "# show the legend\n",
        "pyplot.legend()\n",
        "# show the plot\n",
        "pyplot.show()"
      ],
      "metadata": {
        "colab": {
          "base_uri": "https://localhost:8080/",
          "height": 466
        },
        "id": "1gJtX5KHTsGR",
        "outputId": "9462ad63-947f-4d66-bbbd-19907d7474ce"
      },
      "execution_count": null,
      "outputs": [
        {
          "output_type": "stream",
          "name": "stdout",
          "text": [
            "Regressor: ROC AUC=0.944\n"
          ]
        },
        {
          "output_type": "display_data",
          "data": {
            "text/plain": [
              "<Figure size 640x480 with 1 Axes>"
            ],
            "image/png": "[encoded data removed]"
          },
          "metadata": {}
        }
      ]
    },
    {
      "cell_type": "code",
      "source": [
        "# calculate the g-mean for each threshold\n",
        "gmeans = np.sqrt(tpr * (1-fpr))"
      ],
      "metadata": {
        "id": "B7Sp0TPWWWgo"
      },
      "execution_count": null,
      "outputs": []
    },
    {
      "cell_type": "code",
      "source": [
        "# locate the index of the largest g-mean\n",
        "ix = np.argmax(gmeans)\n",
        "best_thresh = thresholds[ix]\n",
        "print('Best Threshold=%f, G-Mean=%.3f' % (best_thresh, gmeans[ix]))"
      ],
      "metadata": {
        "colab": {
          "base_uri": "https://localhost:8080/"
        },
        "id": "7srKiqrBWfmC",
        "outputId": "3cc00544-7f0e-410b-c985-9fcba8052028"
      },
      "execution_count": null,
      "outputs": [
        {
          "output_type": "stream",
          "name": "stdout",
          "text": [
            "Best Threshold=0.384609, G-Mean=0.876\n"
          ]
        }
      ]
    },
    {
      "cell_type": "code",
      "source": [
        "test_preds_labels = np.array([1 if s >best_thresh else 0 for s in test_preds])"
      ],
      "metadata": {
        "id": "C1YwNProUs9c"
      },
      "execution_count": null,
      "outputs": []
    },
    {
      "cell_type": "code",
      "source": [
        "print(classification_report(test_labels, test_preds_labels))"
      ],
      "metadata": {
        "colab": {
          "base_uri": "https://localhost:8080/"
        },
        "id": "jVWHUM8eW5en",
        "outputId": "0bfa6d48-6143-49f6-b468-ea3cd6ef6abd"
      },
      "execution_count": null,
      "outputs": [
        {
          "output_type": "stream",
          "name": "stdout",
          "text": [
            "              precision    recall  f1-score   support\n",
            "\n",
            "           0       0.79      0.91      0.85      9865\n",
            "           1       0.93      0.84      0.89     15135\n",
            "\n",
            "    accuracy                           0.87     25000\n",
            "   macro avg       0.86      0.88      0.87     25000\n",
            "weighted avg       0.88      0.87      0.87     25000\n",
            "\n"
          ]
        }
      ]
    },
    {
      "cell_type": "code",
      "source": [
        "test_preds_ratings = test_preds*10\n",
        "test_true_ratings = (test_ratings*10).astype(np.int8)"
      ],
      "metadata": {
        "id": "aOWG6es6Zr5P"
      },
      "execution_count": null,
      "outputs": []
    },
    {
      "cell_type": "code",
      "source": [
        "preds_by_rating = {}\n",
        "\n",
        "for r,p in zip(test_true_ratings,test_preds_ratings):\n",
        "  if r not in preds_by_rating:\n",
        "    preds_by_rating[r] = []\n",
        "\n",
        "  preds_by_rating[r].append(p)"
      ],
      "metadata": {
        "id": "dw6MD-wJbWTR"
      },
      "execution_count": null,
      "outputs": []
    },
    {
      "cell_type": "code",
      "source": [
        "f, axs = plt.subplots(2, 4, figsize=(15, 8))\n",
        "\n",
        "for id,rating in enumerate(sorted(preds_by_rating.keys())):\n",
        "  preds = np.array(preds_by_rating[rating])\n",
        "  print(f\"rating: {rating}, preds mean: {round(preds.mean(),3)}, std: {round(preds.std(),3)}\")\n",
        "  plt.subplot(2,4,id+1)\n",
        "  n, bins, patches = plt.hist(preds)\n",
        "  patches[rating-1].set_fc('r')\n",
        "  plt.title(rating)\n",
        "plt.show()"
      ],
      "metadata": {
        "colab": {
          "base_uri": "https://localhost:8080/",
          "height": 746
        },
        "id": "r6uy28eJb1hd",
        "outputId": "382d4ae2-f092-4a8f-f263-bd4c7d46c0ab"
      },
      "execution_count": null,
      "outputs": [
        {
          "output_type": "stream",
          "name": "stdout",
          "text": [
            "rating: 1, preds mean: 2.0920000076293945, std: 1.305999994277954\n",
            "rating: 2, preds mean: 2.5350000858306885, std: 1.3519999980926514\n",
            "rating: 3, preds mean: 3.0250000953674316, std: 1.534000039100647\n",
            "rating: 4, preds mean: 3.6670000553131104, std: 1.878000020980835\n",
            "rating: 7, preds mean: 7.558000087738037, std: 1.7259999513626099\n",
            "rating: 8, preds mean: 8.222000122070312, std: 1.4329999685287476\n",
            "rating: 9, preds mean: 8.586999893188477, std: 1.2300000190734863\n",
            "rating: 10, preds mean: 8.831000328063965, std: 1.3359999656677246\n"
          ]
        },
        {
          "output_type": "display_data",
          "data": {
            "text/plain": [
              "<Figure size 1500x800 with 8 Axes>"
            ],
            "image/png": "[encoded data removed]"
          },
          "metadata": {}
        }
      ]
    }
  ]
}